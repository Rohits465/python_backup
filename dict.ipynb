{
 "cells": [
  {
   "cell_type": "code",
   "execution_count": 1,
   "metadata": {},
   "outputs": [
    {
     "name": "stdout",
     "output_type": "stream",
     "text": [
      "{'a': 4, 'b': 4, 'c': 6}\n"
     ]
    }
   ],
   "source": [
    "x = {'a':1,'b':2,'c':3}\n",
    "y = {'c':3,'b':2,'a':3}\n",
    "\n",
    "z = {}\n",
    "for i in  x:\n",
    "    for j in y:\n",
    "        if i == j:\n",
    "            z.update({i:x[i]+y[j]})\n",
    "print(z)"
   ]
  },
  {
   "cell_type": "code",
   "execution_count": 2,
   "metadata": {},
   "outputs": [
    {
     "name": "stdout",
     "output_type": "stream",
     "text": [
      "16\n"
     ]
    }
   ],
   "source": [
    "x = {}\n",
    "x[(1,2,4)] = 5\n",
    "x[4,2,1] = 7\n",
    "x[(1,2)] = 6\n",
    "x[(4,2,1)] = 2\n",
    "\n",
    "c = 0\n",
    "for i in x:\n",
    "    c = c+ x[i]\n",
    "print(len(x)+c)"
   ]
  },
  {
   "cell_type": "code",
   "execution_count": 7,
   "metadata": {},
   "outputs": [
    {
     "name": "stdout",
     "output_type": "stream",
     "text": [
      "{}\n"
     ]
    }
   ],
   "source": [
    "x = {\n",
    "    'a':11,\n",
    "    'b':22,\n",
    "    'c':33\n",
    "}\n",
    "\n",
    "# del x\n",
    "# del x['a']\n",
    "# c = x.pop('b')\n",
    "# z = x.popitem()\n",
    "x.clear()\n",
    "\n",
    "print(x)\n",
    "# print(z)\n",
    "# print(c)"
   ]
  },
  {
   "cell_type": "code",
   "execution_count": 8,
   "metadata": {},
   "outputs": [
    {
     "data": {
      "text/plain": [
       "{}"
      ]
     },
     "execution_count": 8,
     "metadata": {},
     "output_type": "execute_result"
    }
   ],
   "source": [
    "z  =dict()\n",
    "z"
   ]
  },
  {
   "cell_type": "code",
   "execution_count": null,
   "metadata": {},
   "outputs": [],
   "source": []
  }
 ],
 "metadata": {
  "kernelspec": {
   "display_name": "Python 3",
   "language": "python",
   "name": "python3"
  },
  "language_info": {
   "codemirror_mode": {
    "name": "ipython",
    "version": 3
   },
   "file_extension": ".py",
   "mimetype": "text/x-python",
   "name": "python",
   "nbconvert_exporter": "python",
   "pygments_lexer": "ipython3",
   "version": "3.8.5"
  }
 },
 "nbformat": 4,
 "nbformat_minor": 4
}
